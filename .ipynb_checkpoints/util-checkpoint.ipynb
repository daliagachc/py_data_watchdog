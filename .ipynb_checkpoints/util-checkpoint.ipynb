{
 "cells": [
  {
   "cell_type": "code",
   "execution_count": 24,
   "metadata": {},
   "outputs": [],
   "source": [
    "import smtplib\n",
    "import os\n",
    "import socket\n",
    "from contextlib import closing\n",
    "import time"
   ]
  },
  {
   "cell_type": "code",
   "execution_count": 43,
   "metadata": {},
   "outputs": [],
   "source": [
    "def sendemail(*,from_addr, to_addr_list, cc_addr_list,\n",
    "              subject, message,\n",
    "              login, password,\n",
    "              smtpserver='smtp.gmail.com:587',**keywords):\n",
    "\theader  = 'From: %s\\n' % from_addr\n",
    "\theader += 'To: %s\\n' % ','.join(to_addr_list)\n",
    "\theader += 'Cc: %s\\n' % ','.join(cc_addr_list)\n",
    "\theader += 'Subject: %s\\n\\n' % subject\n",
    "\tmessage = header + message\n",
    "\n",
    "\tserver = smtplib.SMTP(smtpserver)\n",
    "\tserver.starttls()\n",
    "\tserver.login(login,password)\n",
    "\tproblems = server.sendmail(from_addr, to_addr_list, message)\n",
    "\tserver.quit()\n",
    "\treturn problems"
   ]
  },
  {
   "cell_type": "code",
   "execution_count": 65,
   "metadata": {},
   "outputs": [],
   "source": [
    "def get_size(*,watch_path,**keyword):\n",
    "    total_size = 0\n",
    "    for dirpath, dirnames, filenames in os.walk(watch_path):\n",
    "        for f in filenames:\n",
    "            fp = os.path.join(dirpath, f)\n",
    "            total_size += os.path.getsize(fp)\n",
    "    return total_size\n"
   ]
  },
  {
   "cell_type": "code",
   "execution_count": 107,
   "metadata": {},
   "outputs": [],
   "source": [
    "\n",
    "\n",
    "def check_socket(*,host, port, **keyword):\n",
    "    with closing(socket.socket(socket.AF_INET, socket.SOCK_STREAM)) as sock:\n",
    "        if sock.connect_ex((host, port)) == 0:\n",
    "            ret=True\n",
    "        else:\n",
    "            ret=False\n",
    "    return ret"
   ]
  },
  {
   "cell_type": "code",
   "execution_count": 163,
   "metadata": {},
   "outputs": [],
   "source": [
    "def watchdog(**conf_dic):\n",
    "    size1 = get_size(**conf_dic)\n",
    "    time.sleep(conf_dic['time_interval'])\n",
    "    tries = conf_dic['tries']\n",
    "    attempt = 1\n",
    "    while True: \n",
    "        size2 = get_size(**conf_dic)\n",
    "        size_dif = size2 - size1\n",
    "        size1 = size2 \n",
    "        if size_dif <= 0:\n",
    "            print('error',attempt)\n",
    "            if attempt>=tries:\n",
    "                print('sending email')\n",
    "                sendemail(**conf_dic)\n",
    "                attempt = 1 \n",
    "            else: attempt = attempt + 1\n",
    "        else:\n",
    "            attempt = 1 \n",
    "        time.sleep(conf_dic['time_interval'])\n",
    "    "
   ]
  },
  {
   "cell_type": "code",
   "execution_count": null,
   "metadata": {},
   "outputs": [],
   "source": []
  }
 ],
 "metadata": {
  "jupytext": {
   "main_language": "python",
   "text_representation": {
    "extension": ".py",
    "format_name": "percent",
    "format_version": "1.2",
    "jupytext_version": "0.8.6"
   }
  },
  "kernelspec": {
   "display_name": "Python 3",
   "language": "python",
   "name": "python3"
  },
  "language_info": {
   "codemirror_mode": {
    "name": "ipython",
    "version": 3
   },
   "file_extension": ".py",
   "mimetype": "text/x-python",
   "name": "python",
   "nbconvert_exporter": "python",
   "pygments_lexer": "ipython3",
   "version": "3.6.8"
  }
 },
 "nbformat": 4,
 "nbformat_minor": 2
}
