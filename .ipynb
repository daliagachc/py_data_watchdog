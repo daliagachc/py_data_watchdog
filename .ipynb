{
 "cells": [
  {
   "cell_type": "code",
   "execution_count": null,
   "metadata": {},
   "outputs": [],
   "source": [
    "import smtplib\n",
    "\n",
    "def sendemail(from_addr, to_addr_list, cc_addr_list,\n",
    "              subject, message,\n",
    "              login, password,\n",
    "              smtpserver='smtp.gmail.com:587'):\n",
    "\theader  = 'From: %s\\n' % from_addr\n",
    "\theader += 'To: %s\\n' % ','.join(to_addr_list)\n",
    "\theader += 'Cc: %s\\n' % ','.join(cc_addr_list)\n",
    "\theader += 'Subject: %s\\n\\n' % subject\n",
    "\tmessage = header + message\n",
    "\n",
    "\tserver = smtplib.SMTP(smtpserver)\n",
    "\tserver.starttls()\n",
    "\tserver.login(login,password)\n",
    "\tproblems = server.sendmail(from_addr, to_addr_list, message)\n",
    "\tserver.quit()\n",
    "\treturn problems\n"
   ]
  }
 ],
 "metadata": {
  "jupytext": {
   "main_language": "python",
   "text_representation": {
    "extension": ".py",
    "format_name": "percent",
    "format_version": "1.2",
    "jupytext_version": "0.8.6"
   }
  },
  "kernelspec": {
   "display_name": "Python 3",
   "language": "python",
   "name": "python3"
  },
  "language_info": {
   "codemirror_mode": {
    "name": "ipython",
    "version": 3
   },
   "file_extension": ".py",
   "mimetype": "text/x-python",
   "name": "python",
   "nbconvert_exporter": "python",
   "pygments_lexer": "ipython3",
   "version": "3.6.8"
  }
 },
 "nbformat": 4,
 "nbformat_minor": 2
}
