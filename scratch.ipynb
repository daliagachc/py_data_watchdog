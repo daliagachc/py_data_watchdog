{
 "cells": [
  {
   "cell_type": "code",
   "execution_count": 1,
   "metadata": {},
   "outputs": [],
   "source": [
    "import util\n",
    "import importlib\n",
    "importlib.reload(util);"
   ]
  },
  {
   "cell_type": "code",
   "execution_count": 2,
   "metadata": {},
   "outputs": [],
   "source": [
    "conf_dic = dict(\n",
    "    monitor_mode= 'connected', # options: folder, connected, value\n",
    "    from_addr    = '', # this values is not shown anywhere as of now\n",
    "    to_addr_list = ['daliaga@chacaltaya.edu.bo'],\n",
    "    cc_addr_list = [],\n",
    "    subject      = 'instrument not measuring',\n",
    "    message      = '',\n",
    "    login        = 'bolivia-campaign-user@chacaltaya.edu.bo',\n",
    "    password     = 'chacaltaya_5240masl',\n",
    "    watch_path   = '/tmp/data', # directory that needs to be increasing. mode: folder\n",
    "    host         = '10.8.3.33', # in case connection test, this is the address of the monitored computer. mode connected\n",
    "    port         = 2105, # this is the port that we will check is open in the monitored computer. mode connected\n",
    "    time_interval= 2, #seconds \n",
    "    tries        = 3, # tries before sending email (time_interval*tries)\n",
    "    value_range  = [0, 10] # the value range to be monitored. only needed for mode value\n",
    "\n",
    ")"
   ]
  },
  {
   "cell_type": "code",
   "execution_count": 3,
   "metadata": {},
   "outputs": [
    {
     "data": {
      "text/plain": [
       "True"
      ]
     },
     "execution_count": 3,
     "metadata": {},
     "output_type": "execute_result"
    }
   ],
   "source": [
    "util.check_socket(**conf_dic)"
   ]
  },
  {
   "cell_type": "code",
   "execution_count": 4,
   "metadata": {},
   "outputs": [
    {
     "data": {
      "text/plain": [
       "0.9134892625383599"
      ]
     },
     "execution_count": 4,
     "metadata": {},
     "output_type": "execute_result"
    }
   ],
   "source": [
    "import random\n",
    "random.random()"
   ]
  },
  {
   "cell_type": "code",
   "execution_count": null,
   "metadata": {},
   "outputs": [],
   "source": []
  }
 ],
 "metadata": {
  "jupytext": {
   "main_language": "python",
   "text_representation": {
    "extension": ".py",
    "format_name": "percent",
    "format_version": "1.2",
    "jupytext_version": "0.8.6"
   }
  },
  "kernelspec": {
   "display_name": "Python 3",
   "language": "python",
   "name": "python3"
  },
  "language_info": {
   "codemirror_mode": {
    "name": "ipython",
    "version": 3
   },
   "file_extension": ".py",
   "mimetype": "text/x-python",
   "name": "python",
   "nbconvert_exporter": "python",
   "pygments_lexer": "ipython3",
   "version": "3.6.8"
  }
 },
 "nbformat": 4,
 "nbformat_minor": 2
}
