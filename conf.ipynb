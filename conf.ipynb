{
 "cells": [
  {
   "cell_type": "code",
   "execution_count": 3,
   "metadata": {},
   "outputs": [],
   "source": [
    "conf_dic = dict(\n",
    "    from_addr    = 'so2_chc',\n",
    "    to_addr_list = [''],\n",
    "    cc_addr_list = [],\n",
    "    subject      = 'instrument not measuring',\n",
    "    message      = '',\n",
    "    login        = 'bolivia-campaign-user@chacaltaya.edu.bo',\n",
    "    password     = 'pass here',\n",
    "    watch_path   = '/tmp/data',\n",
    "    host         = '10.8.3.33',\n",
    "    port         = 2105,\n",
    "    time_interval= 2, #seconds \n",
    "    tries        = 3 # tries before sending email (time_interval*tries)\n",
    "\n",
    ")"
   ]
  },
  {
   "cell_type": "code",
   "execution_count": null,
   "metadata": {},
   "outputs": [],
   "source": []
  }
 ],
 "metadata": {
  "jupytext": {
   "main_language": "python",
   "text_representation": {
    "extension": ".py",
    "format_name": "percent",
    "format_version": "1.2",
    "jupytext_version": "0.8.6"
   }
  },
  "kernelspec": {
   "display_name": "Python 3",
   "language": "python",
   "name": "python3"
  },
  "language_info": {
   "codemirror_mode": {
    "name": "ipython",
    "version": 3
   },
   "file_extension": ".py",
   "mimetype": "text/x-python",
   "name": "python",
   "nbconvert_exporter": "python",
   "pygments_lexer": "ipython3",
   "version": "3.6.8"
  }
 },
 "nbformat": 4,
 "nbformat_minor": 2
}
